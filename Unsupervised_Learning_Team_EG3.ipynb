{
  "cells": [
    {
      "cell_type": "markdown",
      "metadata": {
        "id": "AD_GMBt4Cuna"
      },
      "source": [
        "<div align=\"center\" style=\" font-size: 80%; text-align: center; margin: 0 auto\">\n",
        "<img src=\"https://raw.githubusercontent.com/Explore-AI/Pictures/master/Python-Notebook-Banners/Code_challenge.png\"  style=\"display: block; margin-left: auto; margin-right: auto;\";/>\n",
        "</div>"
      ]
    },
    {
      "cell_type": "markdown",
      "metadata": {
        "id": "i1PvYpJQCund"
      },
      "source": [
        "## Unsupervised-Learning-Project 2401FTDS: Team EG-3\n",
        "© ExploreAI Academy"
      ]
    },
    {
      "cell_type": "markdown",
      "metadata": {
        "id": "A03uVvEWCund"
      },
      "source": [
        "---"
      ]
    },
    {
      "cell_type": "markdown",
      "metadata": {
        "id": "X5spotHaCune"
      },
      "source": [
        "<div align=\"center\" style=\" font-size: 80%; text-align: center; margin: 0 auto\">\n",
        "<img src=\"https://blogger.googleusercontent.com/img/b/R29vZ2xl/AVvXsEidtLtnam_bUJws2nXbAjWSwNIOIhclIht46ZAX-4EzF2KMbkT2HX5Zdgr19wcIwPDeLJmQPIIPQG_BcYf3mkKfPJJTuMe4FYOVq75vTXU3uXl_x7Vp6Nk4UI_7lvv3119D278ogajfsilK/s3172/h6OWT9.jpg\"  style=\"display: block; margin-left: auto; margin-right: auto;\";/>\n",
        "</div>"
      ]
    },
    {
      "cell_type": "markdown",
      "metadata": {
        "id": "r36IUXoFCune"
      },
      "source": [
        "<a id=\"cont\"></a>\n",
        "\n",
        "## Table of Contents\n",
        "* <b>[1. Project Overview](#chapter1)\n",
        "    * [1.1 Introduction](#section_1_1)\n",
        "        * [1.1.1 Background](#sub_section_1_1_1)\n",
        "        * [1.1.2 Problem Statement](#sub_section_1_1_2)\n",
        "        * [1.1.3 Data Sourcing](#sub_section_1_1_3)\n",
        "        * [1.1.4 Importance of the Study](#sub_section_1_1_4)\n",
        "        * [1.1.5 Key Questions/Hypothesis](#sub_section_1_1_5)\n",
        "        * [1.1.6 Expected Outcomes](#sub_section_1_1_6)\n",
        "    * [1.2 Project Objectives](#section_1_2)\n",
        "* <b>[2. Importing Packages](#chapter2)\n",
        "* <b>[3. Loading Data](#chapter3)\n",
        "* <b>[4. Data Cleaning](#chapter4)\n",
        "* <b>[5. Exploratory Data Analysis (EDA)](#chapter5)\n",
        "* <b>[6. ***](#chapter6)\n",
        "* <b>[7. ***](#chapter7)\n",
        "* <b>[8. Conclusion](#chapter8)\n",
        "* <b>[9. References](#chapter9)"
      ]
    },
    {
      "cell_type": "markdown",
      "metadata": {
        "id": "M4le2EkXCune"
      },
      "source": [
        "## 1.1 Introduction"
      ]
    },
    {
      "cell_type": "markdown",
      "metadata": {
        "id": "e4EBhWAoCunf"
      },
      "source": [
        "> <b> 1.1.1 Background: </b>\n",
        "\n",
        "\n",
        "> <b> 1.1.2 Problem Statement: </b>\n",
        "\n",
        "\n",
        "> <b> 1.1.3 Data Sourcing: </b>\n",
        "\n",
        "\n",
        "> <b> 1.1.4 Importance of the Study: </b>\n",
        "\n",
        "\n",
        "> <b> 1.1.5 Key Questions/Hypothesis: </b>\n",
        "\n",
        "> <b> 1.1.6 Aim: </b>\n",
        "\n",
        "\n",
        "> <b> 1.1.7 Expected outcomes: </b>\n",
        "\n"
      ]
    },
    {
      "cell_type": "markdown",
      "metadata": {
        "id": "JWiuJM4wCunf"
      },
      "source": [
        "## 1.2 Project Objectives"
      ]
    },
    {
      "cell_type": "code",
      "execution_count": null,
      "metadata": {
        "id": "Q9hgwo3qPE9h"
      },
      "outputs": [],
      "source": []
    },
    {
      "cell_type": "markdown",
      "metadata": {
        "id": "e23WZnJeCung"
      },
      "source": [
        "---\n",
        "# 2. Importing Packages\n",
        "\n",
        "The necessary packages were imported to facilitate data manipulation, machine learning, model evaluation, and visualization. Warnings were also suppressed to ensure cleaner output."
      ]
    },
    {
      "cell_type": "code",
      "source": [
        "pip install scikit-surprise"
      ],
      "metadata": {
        "colab": {
          "base_uri": "https://localhost:8080/"
        },
        "id": "wi1UEq0_Ugii",
        "outputId": "c36f8638-f08b-4a5a-c996-06fc01991daa"
      },
      "execution_count": 21,
      "outputs": [
        {
          "output_type": "stream",
          "name": "stdout",
          "text": [
            "Collecting scikit-surprise\n",
            "  Downloading scikit_surprise-1.1.4.tar.gz (154 kB)\n",
            "\u001b[?25l     \u001b[90m━━━━━━━━━━━━━━━━━━━━━━━━━━━━━━━━━━━━━━━━\u001b[0m \u001b[32m0.0/154.4 kB\u001b[0m \u001b[31m?\u001b[0m eta \u001b[36m-:--:--\u001b[0m\r\u001b[2K     \u001b[91m━━━━━━━━━━━━━━━━━━━━━━━━━━━━━━━━━━━━━━━\u001b[0m\u001b[91m╸\u001b[0m \u001b[32m153.6/154.4 kB\u001b[0m \u001b[31m5.0 MB/s\u001b[0m eta \u001b[36m0:00:01\u001b[0m\r\u001b[2K     \u001b[90m━━━━━━━━━━━━━━━━━━━━━━━━━━━━━━━━━━━━━━━━\u001b[0m \u001b[32m154.4/154.4 kB\u001b[0m \u001b[31m3.5 MB/s\u001b[0m eta \u001b[36m0:00:00\u001b[0m\n",
            "\u001b[?25h  Installing build dependencies ... \u001b[?25l\u001b[?25hdone\n",
            "  Getting requirements to build wheel ... \u001b[?25l\u001b[?25hdone\n",
            "  Preparing metadata (pyproject.toml) ... \u001b[?25l\u001b[?25hdone\n",
            "Requirement already satisfied: joblib>=1.2.0 in /usr/local/lib/python3.10/dist-packages (from scikit-surprise) (1.4.2)\n",
            "Requirement already satisfied: numpy>=1.19.5 in /usr/local/lib/python3.10/dist-packages (from scikit-surprise) (1.25.2)\n",
            "Requirement already satisfied: scipy>=1.6.0 in /usr/local/lib/python3.10/dist-packages (from scikit-surprise) (1.11.4)\n",
            "Building wheels for collected packages: scikit-surprise\n",
            "  Building wheel for scikit-surprise (pyproject.toml) ... \u001b[?25l\u001b[?25hdone\n",
            "  Created wheel for scikit-surprise: filename=scikit_surprise-1.1.4-cp310-cp310-linux_x86_64.whl size=2357255 sha256=3e0c71d20acac178700483d79896a17942787ecbd610297d0363564a31fc2c9b\n",
            "  Stored in directory: /root/.cache/pip/wheels/4b/3f/df/6acbf0a40397d9bf3ff97f582cc22fb9ce66adde75bc71fd54\n",
            "Successfully built scikit-surprise\n",
            "Installing collected packages: scikit-surprise\n",
            "Successfully installed scikit-surprise-1.1.4\n"
          ]
        }
      ]
    },
    {
      "cell_type": "code",
      "execution_count": 40,
      "metadata": {
        "id": "tXeTZ76NCunh"
      },
      "outputs": [],
      "source": [
        "#MLflow tracking\n",
        "import mlflow\n",
        "import pickle\n",
        "\n",
        "# Data manipulation and analysis\n",
        "import pandas as pd\n",
        "import numpy as np\n",
        "from sklearn.preprocessing import StandardScaler\n",
        "\n",
        "# Visualization\n",
        "import matplotlib.pyplot as plt\n",
        "import seaborn as sns\n",
        "\n",
        "\n",
        "# Machine learning models\n",
        "from sklearn.feature_extraction.text import TfidfVectorizer\n",
        "from sklearn.metrics.pairwise import cosine_similarity\n",
        "\n",
        "\n",
        "# Ignore warnings\n",
        "import warnings\n",
        "warnings.filterwarnings('ignore')"
      ]
    },
    {
      "cell_type": "markdown",
      "metadata": {
        "id": "jbDSDkisCunj"
      },
      "source": [
        "----\n",
        "# 3. Loading Data\n",
        "The data used for this project was located in the ().csv file. To better manipulate and analyse the titles.csv file, it was loaded into a Pandas Data Frame using the Pandas function, .read_csv() and referred to as df. For demonstrating the column index in the dataframe , index_col=False was implemented."
      ]
    },
    {
      "cell_type": "code",
      "execution_count": 5,
      "metadata": {
        "id": "HsuerHURCunk"
      },
      "outputs": [],
      "source": [
        "#Load data training, testing, and anime data\n",
        "train_df = pd.read_csv('Data/train.csv')\n",
        "anime_df = pd.read_csv('Data/anime.csv')\n",
        "test_df = pd.read_csv('Data/test.csv')"
      ]
    },
    {
      "cell_type": "markdown",
      "metadata": {
        "id": "doZ7YO18Cunk"
      },
      "source": [
        "<div class=\"alert alert-block alert-danger\">\n",
        "<b>To prevent any major unnecessary changes occurring to the original data</b> , a copy of the dataframe was made using the df.copy() method and referred to as `df_copy`.\n",
        "</div>"
      ]
    },
    {
      "cell_type": "code",
      "execution_count": 6,
      "metadata": {
        "id": "eL3OdX46Cunk"
      },
      "outputs": [],
      "source": [
        "#The copy of the dataframe\n",
        "anime_df_copy = anime_df.copy()\n",
        "train_df_copy = train_df.copy()\n",
        "test_df_copy = test_df.copy()"
      ]
    },
    {
      "cell_type": "code",
      "execution_count": 7,
      "metadata": {
        "colab": {
          "base_uri": "https://localhost:8080/",
          "height": 206
        },
        "id": "anLZIKB2PE9p",
        "outputId": "7856ea1e-57c7-468e-d3da-7dafe802e525"
      },
      "outputs": [
        {
          "output_type": "execute_result",
          "data": {
            "text/plain": [
              "   anime_id                              name  \\\n",
              "0     32281                    Kimi no Na wa.   \n",
              "1      5114  Fullmetal Alchemist: Brotherhood   \n",
              "2     28977                          Gintama°   \n",
              "3      9253                       Steins;Gate   \n",
              "4      9969                     Gintama&#039;   \n",
              "\n",
              "                                               genre   type episodes  rating  \\\n",
              "0               Drama, Romance, School, Supernatural  Movie        1    9.37   \n",
              "1  Action, Adventure, Drama, Fantasy, Magic, Mili...     TV       64    9.26   \n",
              "2  Action, Comedy, Historical, Parody, Samurai, S...     TV       51    9.25   \n",
              "3                                   Sci-Fi, Thriller     TV       24    9.17   \n",
              "4  Action, Comedy, Historical, Parody, Samurai, S...     TV       51    9.16   \n",
              "\n",
              "   members  \n",
              "0   200630  \n",
              "1   793665  \n",
              "2   114262  \n",
              "3   673572  \n",
              "4   151266  "
            ],
            "text/html": [
              "\n",
              "  <div id=\"df-67b05a98-3fec-4c90-a274-3a370beb9005\" class=\"colab-df-container\">\n",
              "    <div>\n",
              "<style scoped>\n",
              "    .dataframe tbody tr th:only-of-type {\n",
              "        vertical-align: middle;\n",
              "    }\n",
              "\n",
              "    .dataframe tbody tr th {\n",
              "        vertical-align: top;\n",
              "    }\n",
              "\n",
              "    .dataframe thead th {\n",
              "        text-align: right;\n",
              "    }\n",
              "</style>\n",
              "<table border=\"1\" class=\"dataframe\">\n",
              "  <thead>\n",
              "    <tr style=\"text-align: right;\">\n",
              "      <th></th>\n",
              "      <th>anime_id</th>\n",
              "      <th>name</th>\n",
              "      <th>genre</th>\n",
              "      <th>type</th>\n",
              "      <th>episodes</th>\n",
              "      <th>rating</th>\n",
              "      <th>members</th>\n",
              "    </tr>\n",
              "  </thead>\n",
              "  <tbody>\n",
              "    <tr>\n",
              "      <th>0</th>\n",
              "      <td>32281</td>\n",
              "      <td>Kimi no Na wa.</td>\n",
              "      <td>Drama, Romance, School, Supernatural</td>\n",
              "      <td>Movie</td>\n",
              "      <td>1</td>\n",
              "      <td>9.37</td>\n",
              "      <td>200630</td>\n",
              "    </tr>\n",
              "    <tr>\n",
              "      <th>1</th>\n",
              "      <td>5114</td>\n",
              "      <td>Fullmetal Alchemist: Brotherhood</td>\n",
              "      <td>Action, Adventure, Drama, Fantasy, Magic, Mili...</td>\n",
              "      <td>TV</td>\n",
              "      <td>64</td>\n",
              "      <td>9.26</td>\n",
              "      <td>793665</td>\n",
              "    </tr>\n",
              "    <tr>\n",
              "      <th>2</th>\n",
              "      <td>28977</td>\n",
              "      <td>Gintama°</td>\n",
              "      <td>Action, Comedy, Historical, Parody, Samurai, S...</td>\n",
              "      <td>TV</td>\n",
              "      <td>51</td>\n",
              "      <td>9.25</td>\n",
              "      <td>114262</td>\n",
              "    </tr>\n",
              "    <tr>\n",
              "      <th>3</th>\n",
              "      <td>9253</td>\n",
              "      <td>Steins;Gate</td>\n",
              "      <td>Sci-Fi, Thriller</td>\n",
              "      <td>TV</td>\n",
              "      <td>24</td>\n",
              "      <td>9.17</td>\n",
              "      <td>673572</td>\n",
              "    </tr>\n",
              "    <tr>\n",
              "      <th>4</th>\n",
              "      <td>9969</td>\n",
              "      <td>Gintama&amp;#039;</td>\n",
              "      <td>Action, Comedy, Historical, Parody, Samurai, S...</td>\n",
              "      <td>TV</td>\n",
              "      <td>51</td>\n",
              "      <td>9.16</td>\n",
              "      <td>151266</td>\n",
              "    </tr>\n",
              "  </tbody>\n",
              "</table>\n",
              "</div>\n",
              "    <div class=\"colab-df-buttons\">\n",
              "\n",
              "  <div class=\"colab-df-container\">\n",
              "    <button class=\"colab-df-convert\" onclick=\"convertToInteractive('df-67b05a98-3fec-4c90-a274-3a370beb9005')\"\n",
              "            title=\"Convert this dataframe to an interactive table.\"\n",
              "            style=\"display:none;\">\n",
              "\n",
              "  <svg xmlns=\"http://www.w3.org/2000/svg\" height=\"24px\" viewBox=\"0 -960 960 960\">\n",
              "    <path d=\"M120-120v-720h720v720H120Zm60-500h600v-160H180v160Zm220 220h160v-160H400v160Zm0 220h160v-160H400v160ZM180-400h160v-160H180v160Zm440 0h160v-160H620v160ZM180-180h160v-160H180v160Zm440 0h160v-160H620v160Z\"/>\n",
              "  </svg>\n",
              "    </button>\n",
              "\n",
              "  <style>\n",
              "    .colab-df-container {\n",
              "      display:flex;\n",
              "      gap: 12px;\n",
              "    }\n",
              "\n",
              "    .colab-df-convert {\n",
              "      background-color: #E8F0FE;\n",
              "      border: none;\n",
              "      border-radius: 50%;\n",
              "      cursor: pointer;\n",
              "      display: none;\n",
              "      fill: #1967D2;\n",
              "      height: 32px;\n",
              "      padding: 0 0 0 0;\n",
              "      width: 32px;\n",
              "    }\n",
              "\n",
              "    .colab-df-convert:hover {\n",
              "      background-color: #E2EBFA;\n",
              "      box-shadow: 0px 1px 2px rgba(60, 64, 67, 0.3), 0px 1px 3px 1px rgba(60, 64, 67, 0.15);\n",
              "      fill: #174EA6;\n",
              "    }\n",
              "\n",
              "    .colab-df-buttons div {\n",
              "      margin-bottom: 4px;\n",
              "    }\n",
              "\n",
              "    [theme=dark] .colab-df-convert {\n",
              "      background-color: #3B4455;\n",
              "      fill: #D2E3FC;\n",
              "    }\n",
              "\n",
              "    [theme=dark] .colab-df-convert:hover {\n",
              "      background-color: #434B5C;\n",
              "      box-shadow: 0px 1px 3px 1px rgba(0, 0, 0, 0.15);\n",
              "      filter: drop-shadow(0px 1px 2px rgba(0, 0, 0, 0.3));\n",
              "      fill: #FFFFFF;\n",
              "    }\n",
              "  </style>\n",
              "\n",
              "    <script>\n",
              "      const buttonEl =\n",
              "        document.querySelector('#df-67b05a98-3fec-4c90-a274-3a370beb9005 button.colab-df-convert');\n",
              "      buttonEl.style.display =\n",
              "        google.colab.kernel.accessAllowed ? 'block' : 'none';\n",
              "\n",
              "      async function convertToInteractive(key) {\n",
              "        const element = document.querySelector('#df-67b05a98-3fec-4c90-a274-3a370beb9005');\n",
              "        const dataTable =\n",
              "          await google.colab.kernel.invokeFunction('convertToInteractive',\n",
              "                                                    [key], {});\n",
              "        if (!dataTable) return;\n",
              "\n",
              "        const docLinkHtml = 'Like what you see? Visit the ' +\n",
              "          '<a target=\"_blank\" href=https://colab.research.google.com/notebooks/data_table.ipynb>data table notebook</a>'\n",
              "          + ' to learn more about interactive tables.';\n",
              "        element.innerHTML = '';\n",
              "        dataTable['output_type'] = 'display_data';\n",
              "        await google.colab.output.renderOutput(dataTable, element);\n",
              "        const docLink = document.createElement('div');\n",
              "        docLink.innerHTML = docLinkHtml;\n",
              "        element.appendChild(docLink);\n",
              "      }\n",
              "    </script>\n",
              "  </div>\n",
              "\n",
              "\n",
              "<div id=\"df-9c5ed16e-1292-4017-b261-d08b08805b60\">\n",
              "  <button class=\"colab-df-quickchart\" onclick=\"quickchart('df-9c5ed16e-1292-4017-b261-d08b08805b60')\"\n",
              "            title=\"Suggest charts\"\n",
              "            style=\"display:none;\">\n",
              "\n",
              "<svg xmlns=\"http://www.w3.org/2000/svg\" height=\"24px\"viewBox=\"0 0 24 24\"\n",
              "     width=\"24px\">\n",
              "    <g>\n",
              "        <path d=\"M19 3H5c-1.1 0-2 .9-2 2v14c0 1.1.9 2 2 2h14c1.1 0 2-.9 2-2V5c0-1.1-.9-2-2-2zM9 17H7v-7h2v7zm4 0h-2V7h2v10zm4 0h-2v-4h2v4z\"/>\n",
              "    </g>\n",
              "</svg>\n",
              "  </button>\n",
              "\n",
              "<style>\n",
              "  .colab-df-quickchart {\n",
              "      --bg-color: #E8F0FE;\n",
              "      --fill-color: #1967D2;\n",
              "      --hover-bg-color: #E2EBFA;\n",
              "      --hover-fill-color: #174EA6;\n",
              "      --disabled-fill-color: #AAA;\n",
              "      --disabled-bg-color: #DDD;\n",
              "  }\n",
              "\n",
              "  [theme=dark] .colab-df-quickchart {\n",
              "      --bg-color: #3B4455;\n",
              "      --fill-color: #D2E3FC;\n",
              "      --hover-bg-color: #434B5C;\n",
              "      --hover-fill-color: #FFFFFF;\n",
              "      --disabled-bg-color: #3B4455;\n",
              "      --disabled-fill-color: #666;\n",
              "  }\n",
              "\n",
              "  .colab-df-quickchart {\n",
              "    background-color: var(--bg-color);\n",
              "    border: none;\n",
              "    border-radius: 50%;\n",
              "    cursor: pointer;\n",
              "    display: none;\n",
              "    fill: var(--fill-color);\n",
              "    height: 32px;\n",
              "    padding: 0;\n",
              "    width: 32px;\n",
              "  }\n",
              "\n",
              "  .colab-df-quickchart:hover {\n",
              "    background-color: var(--hover-bg-color);\n",
              "    box-shadow: 0 1px 2px rgba(60, 64, 67, 0.3), 0 1px 3px 1px rgba(60, 64, 67, 0.15);\n",
              "    fill: var(--button-hover-fill-color);\n",
              "  }\n",
              "\n",
              "  .colab-df-quickchart-complete:disabled,\n",
              "  .colab-df-quickchart-complete:disabled:hover {\n",
              "    background-color: var(--disabled-bg-color);\n",
              "    fill: var(--disabled-fill-color);\n",
              "    box-shadow: none;\n",
              "  }\n",
              "\n",
              "  .colab-df-spinner {\n",
              "    border: 2px solid var(--fill-color);\n",
              "    border-color: transparent;\n",
              "    border-bottom-color: var(--fill-color);\n",
              "    animation:\n",
              "      spin 1s steps(1) infinite;\n",
              "  }\n",
              "\n",
              "  @keyframes spin {\n",
              "    0% {\n",
              "      border-color: transparent;\n",
              "      border-bottom-color: var(--fill-color);\n",
              "      border-left-color: var(--fill-color);\n",
              "    }\n",
              "    20% {\n",
              "      border-color: transparent;\n",
              "      border-left-color: var(--fill-color);\n",
              "      border-top-color: var(--fill-color);\n",
              "    }\n",
              "    30% {\n",
              "      border-color: transparent;\n",
              "      border-left-color: var(--fill-color);\n",
              "      border-top-color: var(--fill-color);\n",
              "      border-right-color: var(--fill-color);\n",
              "    }\n",
              "    40% {\n",
              "      border-color: transparent;\n",
              "      border-right-color: var(--fill-color);\n",
              "      border-top-color: var(--fill-color);\n",
              "    }\n",
              "    60% {\n",
              "      border-color: transparent;\n",
              "      border-right-color: var(--fill-color);\n",
              "    }\n",
              "    80% {\n",
              "      border-color: transparent;\n",
              "      border-right-color: var(--fill-color);\n",
              "      border-bottom-color: var(--fill-color);\n",
              "    }\n",
              "    90% {\n",
              "      border-color: transparent;\n",
              "      border-bottom-color: var(--fill-color);\n",
              "    }\n",
              "  }\n",
              "</style>\n",
              "\n",
              "  <script>\n",
              "    async function quickchart(key) {\n",
              "      const quickchartButtonEl =\n",
              "        document.querySelector('#' + key + ' button');\n",
              "      quickchartButtonEl.disabled = true;  // To prevent multiple clicks.\n",
              "      quickchartButtonEl.classList.add('colab-df-spinner');\n",
              "      try {\n",
              "        const charts = await google.colab.kernel.invokeFunction(\n",
              "            'suggestCharts', [key], {});\n",
              "      } catch (error) {\n",
              "        console.error('Error during call to suggestCharts:', error);\n",
              "      }\n",
              "      quickchartButtonEl.classList.remove('colab-df-spinner');\n",
              "      quickchartButtonEl.classList.add('colab-df-quickchart-complete');\n",
              "    }\n",
              "    (() => {\n",
              "      let quickchartButtonEl =\n",
              "        document.querySelector('#df-9c5ed16e-1292-4017-b261-d08b08805b60 button');\n",
              "      quickchartButtonEl.style.display =\n",
              "        google.colab.kernel.accessAllowed ? 'block' : 'none';\n",
              "    })();\n",
              "  </script>\n",
              "</div>\n",
              "\n",
              "    </div>\n",
              "  </div>\n"
            ],
            "application/vnd.google.colaboratory.intrinsic+json": {
              "type": "dataframe",
              "variable_name": "anime_df_copy",
              "summary": "{\n  \"name\": \"anime_df_copy\",\n  \"rows\": 12294,\n  \"fields\": [\n    {\n      \"column\": \"anime_id\",\n      \"properties\": {\n        \"dtype\": \"number\",\n        \"std\": 11455,\n        \"min\": 1,\n        \"max\": 34527,\n        \"num_unique_values\": 12294,\n        \"samples\": [\n          17209,\n          173,\n          3616\n        ],\n        \"semantic_type\": \"\",\n        \"description\": \"\"\n      }\n    },\n    {\n      \"column\": \"name\",\n      \"properties\": {\n        \"dtype\": \"string\",\n        \"num_unique_values\": 12292,\n        \"samples\": [\n          \"Nils no Fushigi na Tabi (Movie)\",\n          \"Tactics\",\n          \"Kamen no Maid Guy\"\n        ],\n        \"semantic_type\": \"\",\n        \"description\": \"\"\n      }\n    },\n    {\n      \"column\": \"genre\",\n      \"properties\": {\n        \"dtype\": \"category\",\n        \"num_unique_values\": 3264,\n        \"samples\": [\n          \"Horror, Supernatural\",\n          \"Action, Adventure, Comedy, Demons, Fantasy, Magic, Romance, Shounen, Supernatural\",\n          \"Action, Comedy, Harem, Parody, Romance\"\n        ],\n        \"semantic_type\": \"\",\n        \"description\": \"\"\n      }\n    },\n    {\n      \"column\": \"type\",\n      \"properties\": {\n        \"dtype\": \"category\",\n        \"num_unique_values\": 6,\n        \"samples\": [\n          \"Movie\",\n          \"TV\",\n          \"ONA\"\n        ],\n        \"semantic_type\": \"\",\n        \"description\": \"\"\n      }\n    },\n    {\n      \"column\": \"episodes\",\n      \"properties\": {\n        \"dtype\": \"category\",\n        \"num_unique_values\": 187,\n        \"samples\": [\n          \"141\",\n          \"54\",\n          \"52\"\n        ],\n        \"semantic_type\": \"\",\n        \"description\": \"\"\n      }\n    },\n    {\n      \"column\": \"rating\",\n      \"properties\": {\n        \"dtype\": \"number\",\n        \"std\": 1.0267463068980571,\n        \"min\": 1.67,\n        \"max\": 10.0,\n        \"num_unique_values\": 598,\n        \"samples\": [\n          7.87,\n          6.11,\n          4.1\n        ],\n        \"semantic_type\": \"\",\n        \"description\": \"\"\n      }\n    },\n    {\n      \"column\": \"members\",\n      \"properties\": {\n        \"dtype\": \"number\",\n        \"std\": 54820,\n        \"min\": 5,\n        \"max\": 1013917,\n        \"num_unique_values\": 6706,\n        \"samples\": [\n          170754,\n          1515,\n          66376\n        ],\n        \"semantic_type\": \"\",\n        \"description\": \"\"\n      }\n    }\n  ]\n}"
            }
          },
          "metadata": {},
          "execution_count": 7
        }
      ],
      "source": [
        "#Display Anime data\n",
        "anime_df_copy.head()"
      ]
    },
    {
      "cell_type": "code",
      "execution_count": 8,
      "metadata": {
        "colab": {
          "base_uri": "https://localhost:8080/",
          "height": 206
        },
        "id": "h8dQh0T3PE9p",
        "outputId": "c65fa60f-38a2-4f8c-b3f1-86382da7b144"
      },
      "outputs": [
        {
          "output_type": "execute_result",
          "data": {
            "text/plain": [
              "   user_id  anime_id  rating\n",
              "0        1     11617    10.0\n",
              "1        1     11757    10.0\n",
              "2        1     15451    10.0\n",
              "3        2     11771    10.0\n",
              "4        3        20     8.0"
            ],
            "text/html": [
              "\n",
              "  <div id=\"df-eb0e8076-c829-4ae4-b487-284f0f3ce353\" class=\"colab-df-container\">\n",
              "    <div>\n",
              "<style scoped>\n",
              "    .dataframe tbody tr th:only-of-type {\n",
              "        vertical-align: middle;\n",
              "    }\n",
              "\n",
              "    .dataframe tbody tr th {\n",
              "        vertical-align: top;\n",
              "    }\n",
              "\n",
              "    .dataframe thead th {\n",
              "        text-align: right;\n",
              "    }\n",
              "</style>\n",
              "<table border=\"1\" class=\"dataframe\">\n",
              "  <thead>\n",
              "    <tr style=\"text-align: right;\">\n",
              "      <th></th>\n",
              "      <th>user_id</th>\n",
              "      <th>anime_id</th>\n",
              "      <th>rating</th>\n",
              "    </tr>\n",
              "  </thead>\n",
              "  <tbody>\n",
              "    <tr>\n",
              "      <th>0</th>\n",
              "      <td>1</td>\n",
              "      <td>11617</td>\n",
              "      <td>10.0</td>\n",
              "    </tr>\n",
              "    <tr>\n",
              "      <th>1</th>\n",
              "      <td>1</td>\n",
              "      <td>11757</td>\n",
              "      <td>10.0</td>\n",
              "    </tr>\n",
              "    <tr>\n",
              "      <th>2</th>\n",
              "      <td>1</td>\n",
              "      <td>15451</td>\n",
              "      <td>10.0</td>\n",
              "    </tr>\n",
              "    <tr>\n",
              "      <th>3</th>\n",
              "      <td>2</td>\n",
              "      <td>11771</td>\n",
              "      <td>10.0</td>\n",
              "    </tr>\n",
              "    <tr>\n",
              "      <th>4</th>\n",
              "      <td>3</td>\n",
              "      <td>20</td>\n",
              "      <td>8.0</td>\n",
              "    </tr>\n",
              "  </tbody>\n",
              "</table>\n",
              "</div>\n",
              "    <div class=\"colab-df-buttons\">\n",
              "\n",
              "  <div class=\"colab-df-container\">\n",
              "    <button class=\"colab-df-convert\" onclick=\"convertToInteractive('df-eb0e8076-c829-4ae4-b487-284f0f3ce353')\"\n",
              "            title=\"Convert this dataframe to an interactive table.\"\n",
              "            style=\"display:none;\">\n",
              "\n",
              "  <svg xmlns=\"http://www.w3.org/2000/svg\" height=\"24px\" viewBox=\"0 -960 960 960\">\n",
              "    <path d=\"M120-120v-720h720v720H120Zm60-500h600v-160H180v160Zm220 220h160v-160H400v160Zm0 220h160v-160H400v160ZM180-400h160v-160H180v160Zm440 0h160v-160H620v160ZM180-180h160v-160H180v160Zm440 0h160v-160H620v160Z\"/>\n",
              "  </svg>\n",
              "    </button>\n",
              "\n",
              "  <style>\n",
              "    .colab-df-container {\n",
              "      display:flex;\n",
              "      gap: 12px;\n",
              "    }\n",
              "\n",
              "    .colab-df-convert {\n",
              "      background-color: #E8F0FE;\n",
              "      border: none;\n",
              "      border-radius: 50%;\n",
              "      cursor: pointer;\n",
              "      display: none;\n",
              "      fill: #1967D2;\n",
              "      height: 32px;\n",
              "      padding: 0 0 0 0;\n",
              "      width: 32px;\n",
              "    }\n",
              "\n",
              "    .colab-df-convert:hover {\n",
              "      background-color: #E2EBFA;\n",
              "      box-shadow: 0px 1px 2px rgba(60, 64, 67, 0.3), 0px 1px 3px 1px rgba(60, 64, 67, 0.15);\n",
              "      fill: #174EA6;\n",
              "    }\n",
              "\n",
              "    .colab-df-buttons div {\n",
              "      margin-bottom: 4px;\n",
              "    }\n",
              "\n",
              "    [theme=dark] .colab-df-convert {\n",
              "      background-color: #3B4455;\n",
              "      fill: #D2E3FC;\n",
              "    }\n",
              "\n",
              "    [theme=dark] .colab-df-convert:hover {\n",
              "      background-color: #434B5C;\n",
              "      box-shadow: 0px 1px 3px 1px rgba(0, 0, 0, 0.15);\n",
              "      filter: drop-shadow(0px 1px 2px rgba(0, 0, 0, 0.3));\n",
              "      fill: #FFFFFF;\n",
              "    }\n",
              "  </style>\n",
              "\n",
              "    <script>\n",
              "      const buttonEl =\n",
              "        document.querySelector('#df-eb0e8076-c829-4ae4-b487-284f0f3ce353 button.colab-df-convert');\n",
              "      buttonEl.style.display =\n",
              "        google.colab.kernel.accessAllowed ? 'block' : 'none';\n",
              "\n",
              "      async function convertToInteractive(key) {\n",
              "        const element = document.querySelector('#df-eb0e8076-c829-4ae4-b487-284f0f3ce353');\n",
              "        const dataTable =\n",
              "          await google.colab.kernel.invokeFunction('convertToInteractive',\n",
              "                                                    [key], {});\n",
              "        if (!dataTable) return;\n",
              "\n",
              "        const docLinkHtml = 'Like what you see? Visit the ' +\n",
              "          '<a target=\"_blank\" href=https://colab.research.google.com/notebooks/data_table.ipynb>data table notebook</a>'\n",
              "          + ' to learn more about interactive tables.';\n",
              "        element.innerHTML = '';\n",
              "        dataTable['output_type'] = 'display_data';\n",
              "        await google.colab.output.renderOutput(dataTable, element);\n",
              "        const docLink = document.createElement('div');\n",
              "        docLink.innerHTML = docLinkHtml;\n",
              "        element.appendChild(docLink);\n",
              "      }\n",
              "    </script>\n",
              "  </div>\n",
              "\n",
              "\n",
              "<div id=\"df-8ade9e7a-aad1-48e3-8b37-12011cb13f3b\">\n",
              "  <button class=\"colab-df-quickchart\" onclick=\"quickchart('df-8ade9e7a-aad1-48e3-8b37-12011cb13f3b')\"\n",
              "            title=\"Suggest charts\"\n",
              "            style=\"display:none;\">\n",
              "\n",
              "<svg xmlns=\"http://www.w3.org/2000/svg\" height=\"24px\"viewBox=\"0 0 24 24\"\n",
              "     width=\"24px\">\n",
              "    <g>\n",
              "        <path d=\"M19 3H5c-1.1 0-2 .9-2 2v14c0 1.1.9 2 2 2h14c1.1 0 2-.9 2-2V5c0-1.1-.9-2-2-2zM9 17H7v-7h2v7zm4 0h-2V7h2v10zm4 0h-2v-4h2v4z\"/>\n",
              "    </g>\n",
              "</svg>\n",
              "  </button>\n",
              "\n",
              "<style>\n",
              "  .colab-df-quickchart {\n",
              "      --bg-color: #E8F0FE;\n",
              "      --fill-color: #1967D2;\n",
              "      --hover-bg-color: #E2EBFA;\n",
              "      --hover-fill-color: #174EA6;\n",
              "      --disabled-fill-color: #AAA;\n",
              "      --disabled-bg-color: #DDD;\n",
              "  }\n",
              "\n",
              "  [theme=dark] .colab-df-quickchart {\n",
              "      --bg-color: #3B4455;\n",
              "      --fill-color: #D2E3FC;\n",
              "      --hover-bg-color: #434B5C;\n",
              "      --hover-fill-color: #FFFFFF;\n",
              "      --disabled-bg-color: #3B4455;\n",
              "      --disabled-fill-color: #666;\n",
              "  }\n",
              "\n",
              "  .colab-df-quickchart {\n",
              "    background-color: var(--bg-color);\n",
              "    border: none;\n",
              "    border-radius: 50%;\n",
              "    cursor: pointer;\n",
              "    display: none;\n",
              "    fill: var(--fill-color);\n",
              "    height: 32px;\n",
              "    padding: 0;\n",
              "    width: 32px;\n",
              "  }\n",
              "\n",
              "  .colab-df-quickchart:hover {\n",
              "    background-color: var(--hover-bg-color);\n",
              "    box-shadow: 0 1px 2px rgba(60, 64, 67, 0.3), 0 1px 3px 1px rgba(60, 64, 67, 0.15);\n",
              "    fill: var(--button-hover-fill-color);\n",
              "  }\n",
              "\n",
              "  .colab-df-quickchart-complete:disabled,\n",
              "  .colab-df-quickchart-complete:disabled:hover {\n",
              "    background-color: var(--disabled-bg-color);\n",
              "    fill: var(--disabled-fill-color);\n",
              "    box-shadow: none;\n",
              "  }\n",
              "\n",
              "  .colab-df-spinner {\n",
              "    border: 2px solid var(--fill-color);\n",
              "    border-color: transparent;\n",
              "    border-bottom-color: var(--fill-color);\n",
              "    animation:\n",
              "      spin 1s steps(1) infinite;\n",
              "  }\n",
              "\n",
              "  @keyframes spin {\n",
              "    0% {\n",
              "      border-color: transparent;\n",
              "      border-bottom-color: var(--fill-color);\n",
              "      border-left-color: var(--fill-color);\n",
              "    }\n",
              "    20% {\n",
              "      border-color: transparent;\n",
              "      border-left-color: var(--fill-color);\n",
              "      border-top-color: var(--fill-color);\n",
              "    }\n",
              "    30% {\n",
              "      border-color: transparent;\n",
              "      border-left-color: var(--fill-color);\n",
              "      border-top-color: var(--fill-color);\n",
              "      border-right-color: var(--fill-color);\n",
              "    }\n",
              "    40% {\n",
              "      border-color: transparent;\n",
              "      border-right-color: var(--fill-color);\n",
              "      border-top-color: var(--fill-color);\n",
              "    }\n",
              "    60% {\n",
              "      border-color: transparent;\n",
              "      border-right-color: var(--fill-color);\n",
              "    }\n",
              "    80% {\n",
              "      border-color: transparent;\n",
              "      border-right-color: var(--fill-color);\n",
              "      border-bottom-color: var(--fill-color);\n",
              "    }\n",
              "    90% {\n",
              "      border-color: transparent;\n",
              "      border-bottom-color: var(--fill-color);\n",
              "    }\n",
              "  }\n",
              "</style>\n",
              "\n",
              "  <script>\n",
              "    async function quickchart(key) {\n",
              "      const quickchartButtonEl =\n",
              "        document.querySelector('#' + key + ' button');\n",
              "      quickchartButtonEl.disabled = true;  // To prevent multiple clicks.\n",
              "      quickchartButtonEl.classList.add('colab-df-spinner');\n",
              "      try {\n",
              "        const charts = await google.colab.kernel.invokeFunction(\n",
              "            'suggestCharts', [key], {});\n",
              "      } catch (error) {\n",
              "        console.error('Error during call to suggestCharts:', error);\n",
              "      }\n",
              "      quickchartButtonEl.classList.remove('colab-df-spinner');\n",
              "      quickchartButtonEl.classList.add('colab-df-quickchart-complete');\n",
              "    }\n",
              "    (() => {\n",
              "      let quickchartButtonEl =\n",
              "        document.querySelector('#df-8ade9e7a-aad1-48e3-8b37-12011cb13f3b button');\n",
              "      quickchartButtonEl.style.display =\n",
              "        google.colab.kernel.accessAllowed ? 'block' : 'none';\n",
              "    })();\n",
              "  </script>\n",
              "</div>\n",
              "\n",
              "    </div>\n",
              "  </div>\n"
            ],
            "application/vnd.google.colaboratory.intrinsic+json": {
              "type": "dataframe",
              "variable_name": "train_df_copy"
            }
          },
          "metadata": {},
          "execution_count": 8
        }
      ],
      "source": [
        "#Display Training data\n",
        "train_df_copy.head()"
      ]
    },
    {
      "cell_type": "code",
      "execution_count": 9,
      "metadata": {
        "colab": {
          "base_uri": "https://localhost:8080/",
          "height": 206
        },
        "id": "Gniafl_rPE9q",
        "outputId": "2919d2cb-e3da-4e7e-ef6b-97b7c10240de"
      },
      "outputs": [
        {
          "output_type": "execute_result",
          "data": {
            "text/plain": [
              "   user_id  anime_id\n",
              "0    40763     21405\n",
              "1    68791     10504\n",
              "2    40487      1281\n",
              "3    55290       165\n",
              "4    72323     11111"
            ],
            "text/html": [
              "\n",
              "  <div id=\"df-1e6edca8-6024-47a7-8047-3833b3e5ea11\" class=\"colab-df-container\">\n",
              "    <div>\n",
              "<style scoped>\n",
              "    .dataframe tbody tr th:only-of-type {\n",
              "        vertical-align: middle;\n",
              "    }\n",
              "\n",
              "    .dataframe tbody tr th {\n",
              "        vertical-align: top;\n",
              "    }\n",
              "\n",
              "    .dataframe thead th {\n",
              "        text-align: right;\n",
              "    }\n",
              "</style>\n",
              "<table border=\"1\" class=\"dataframe\">\n",
              "  <thead>\n",
              "    <tr style=\"text-align: right;\">\n",
              "      <th></th>\n",
              "      <th>user_id</th>\n",
              "      <th>anime_id</th>\n",
              "    </tr>\n",
              "  </thead>\n",
              "  <tbody>\n",
              "    <tr>\n",
              "      <th>0</th>\n",
              "      <td>40763</td>\n",
              "      <td>21405</td>\n",
              "    </tr>\n",
              "    <tr>\n",
              "      <th>1</th>\n",
              "      <td>68791</td>\n",
              "      <td>10504</td>\n",
              "    </tr>\n",
              "    <tr>\n",
              "      <th>2</th>\n",
              "      <td>40487</td>\n",
              "      <td>1281</td>\n",
              "    </tr>\n",
              "    <tr>\n",
              "      <th>3</th>\n",
              "      <td>55290</td>\n",
              "      <td>165</td>\n",
              "    </tr>\n",
              "    <tr>\n",
              "      <th>4</th>\n",
              "      <td>72323</td>\n",
              "      <td>11111</td>\n",
              "    </tr>\n",
              "  </tbody>\n",
              "</table>\n",
              "</div>\n",
              "    <div class=\"colab-df-buttons\">\n",
              "\n",
              "  <div class=\"colab-df-container\">\n",
              "    <button class=\"colab-df-convert\" onclick=\"convertToInteractive('df-1e6edca8-6024-47a7-8047-3833b3e5ea11')\"\n",
              "            title=\"Convert this dataframe to an interactive table.\"\n",
              "            style=\"display:none;\">\n",
              "\n",
              "  <svg xmlns=\"http://www.w3.org/2000/svg\" height=\"24px\" viewBox=\"0 -960 960 960\">\n",
              "    <path d=\"M120-120v-720h720v720H120Zm60-500h600v-160H180v160Zm220 220h160v-160H400v160Zm0 220h160v-160H400v160ZM180-400h160v-160H180v160Zm440 0h160v-160H620v160ZM180-180h160v-160H180v160Zm440 0h160v-160H620v160Z\"/>\n",
              "  </svg>\n",
              "    </button>\n",
              "\n",
              "  <style>\n",
              "    .colab-df-container {\n",
              "      display:flex;\n",
              "      gap: 12px;\n",
              "    }\n",
              "\n",
              "    .colab-df-convert {\n",
              "      background-color: #E8F0FE;\n",
              "      border: none;\n",
              "      border-radius: 50%;\n",
              "      cursor: pointer;\n",
              "      display: none;\n",
              "      fill: #1967D2;\n",
              "      height: 32px;\n",
              "      padding: 0 0 0 0;\n",
              "      width: 32px;\n",
              "    }\n",
              "\n",
              "    .colab-df-convert:hover {\n",
              "      background-color: #E2EBFA;\n",
              "      box-shadow: 0px 1px 2px rgba(60, 64, 67, 0.3), 0px 1px 3px 1px rgba(60, 64, 67, 0.15);\n",
              "      fill: #174EA6;\n",
              "    }\n",
              "\n",
              "    .colab-df-buttons div {\n",
              "      margin-bottom: 4px;\n",
              "    }\n",
              "\n",
              "    [theme=dark] .colab-df-convert {\n",
              "      background-color: #3B4455;\n",
              "      fill: #D2E3FC;\n",
              "    }\n",
              "\n",
              "    [theme=dark] .colab-df-convert:hover {\n",
              "      background-color: #434B5C;\n",
              "      box-shadow: 0px 1px 3px 1px rgba(0, 0, 0, 0.15);\n",
              "      filter: drop-shadow(0px 1px 2px rgba(0, 0, 0, 0.3));\n",
              "      fill: #FFFFFF;\n",
              "    }\n",
              "  </style>\n",
              "\n",
              "    <script>\n",
              "      const buttonEl =\n",
              "        document.querySelector('#df-1e6edca8-6024-47a7-8047-3833b3e5ea11 button.colab-df-convert');\n",
              "      buttonEl.style.display =\n",
              "        google.colab.kernel.accessAllowed ? 'block' : 'none';\n",
              "\n",
              "      async function convertToInteractive(key) {\n",
              "        const element = document.querySelector('#df-1e6edca8-6024-47a7-8047-3833b3e5ea11');\n",
              "        const dataTable =\n",
              "          await google.colab.kernel.invokeFunction('convertToInteractive',\n",
              "                                                    [key], {});\n",
              "        if (!dataTable) return;\n",
              "\n",
              "        const docLinkHtml = 'Like what you see? Visit the ' +\n",
              "          '<a target=\"_blank\" href=https://colab.research.google.com/notebooks/data_table.ipynb>data table notebook</a>'\n",
              "          + ' to learn more about interactive tables.';\n",
              "        element.innerHTML = '';\n",
              "        dataTable['output_type'] = 'display_data';\n",
              "        await google.colab.output.renderOutput(dataTable, element);\n",
              "        const docLink = document.createElement('div');\n",
              "        docLink.innerHTML = docLinkHtml;\n",
              "        element.appendChild(docLink);\n",
              "      }\n",
              "    </script>\n",
              "  </div>\n",
              "\n",
              "\n",
              "<div id=\"df-0543f637-fefa-4729-b834-ec0ad673dd38\">\n",
              "  <button class=\"colab-df-quickchart\" onclick=\"quickchart('df-0543f637-fefa-4729-b834-ec0ad673dd38')\"\n",
              "            title=\"Suggest charts\"\n",
              "            style=\"display:none;\">\n",
              "\n",
              "<svg xmlns=\"http://www.w3.org/2000/svg\" height=\"24px\"viewBox=\"0 0 24 24\"\n",
              "     width=\"24px\">\n",
              "    <g>\n",
              "        <path d=\"M19 3H5c-1.1 0-2 .9-2 2v14c0 1.1.9 2 2 2h14c1.1 0 2-.9 2-2V5c0-1.1-.9-2-2-2zM9 17H7v-7h2v7zm4 0h-2V7h2v10zm4 0h-2v-4h2v4z\"/>\n",
              "    </g>\n",
              "</svg>\n",
              "  </button>\n",
              "\n",
              "<style>\n",
              "  .colab-df-quickchart {\n",
              "      --bg-color: #E8F0FE;\n",
              "      --fill-color: #1967D2;\n",
              "      --hover-bg-color: #E2EBFA;\n",
              "      --hover-fill-color: #174EA6;\n",
              "      --disabled-fill-color: #AAA;\n",
              "      --disabled-bg-color: #DDD;\n",
              "  }\n",
              "\n",
              "  [theme=dark] .colab-df-quickchart {\n",
              "      --bg-color: #3B4455;\n",
              "      --fill-color: #D2E3FC;\n",
              "      --hover-bg-color: #434B5C;\n",
              "      --hover-fill-color: #FFFFFF;\n",
              "      --disabled-bg-color: #3B4455;\n",
              "      --disabled-fill-color: #666;\n",
              "  }\n",
              "\n",
              "  .colab-df-quickchart {\n",
              "    background-color: var(--bg-color);\n",
              "    border: none;\n",
              "    border-radius: 50%;\n",
              "    cursor: pointer;\n",
              "    display: none;\n",
              "    fill: var(--fill-color);\n",
              "    height: 32px;\n",
              "    padding: 0;\n",
              "    width: 32px;\n",
              "  }\n",
              "\n",
              "  .colab-df-quickchart:hover {\n",
              "    background-color: var(--hover-bg-color);\n",
              "    box-shadow: 0 1px 2px rgba(60, 64, 67, 0.3), 0 1px 3px 1px rgba(60, 64, 67, 0.15);\n",
              "    fill: var(--button-hover-fill-color);\n",
              "  }\n",
              "\n",
              "  .colab-df-quickchart-complete:disabled,\n",
              "  .colab-df-quickchart-complete:disabled:hover {\n",
              "    background-color: var(--disabled-bg-color);\n",
              "    fill: var(--disabled-fill-color);\n",
              "    box-shadow: none;\n",
              "  }\n",
              "\n",
              "  .colab-df-spinner {\n",
              "    border: 2px solid var(--fill-color);\n",
              "    border-color: transparent;\n",
              "    border-bottom-color: var(--fill-color);\n",
              "    animation:\n",
              "      spin 1s steps(1) infinite;\n",
              "  }\n",
              "\n",
              "  @keyframes spin {\n",
              "    0% {\n",
              "      border-color: transparent;\n",
              "      border-bottom-color: var(--fill-color);\n",
              "      border-left-color: var(--fill-color);\n",
              "    }\n",
              "    20% {\n",
              "      border-color: transparent;\n",
              "      border-left-color: var(--fill-color);\n",
              "      border-top-color: var(--fill-color);\n",
              "    }\n",
              "    30% {\n",
              "      border-color: transparent;\n",
              "      border-left-color: var(--fill-color);\n",
              "      border-top-color: var(--fill-color);\n",
              "      border-right-color: var(--fill-color);\n",
              "    }\n",
              "    40% {\n",
              "      border-color: transparent;\n",
              "      border-right-color: var(--fill-color);\n",
              "      border-top-color: var(--fill-color);\n",
              "    }\n",
              "    60% {\n",
              "      border-color: transparent;\n",
              "      border-right-color: var(--fill-color);\n",
              "    }\n",
              "    80% {\n",
              "      border-color: transparent;\n",
              "      border-right-color: var(--fill-color);\n",
              "      border-bottom-color: var(--fill-color);\n",
              "    }\n",
              "    90% {\n",
              "      border-color: transparent;\n",
              "      border-bottom-color: var(--fill-color);\n",
              "    }\n",
              "  }\n",
              "</style>\n",
              "\n",
              "  <script>\n",
              "    async function quickchart(key) {\n",
              "      const quickchartButtonEl =\n",
              "        document.querySelector('#' + key + ' button');\n",
              "      quickchartButtonEl.disabled = true;  // To prevent multiple clicks.\n",
              "      quickchartButtonEl.classList.add('colab-df-spinner');\n",
              "      try {\n",
              "        const charts = await google.colab.kernel.invokeFunction(\n",
              "            'suggestCharts', [key], {});\n",
              "      } catch (error) {\n",
              "        console.error('Error during call to suggestCharts:', error);\n",
              "      }\n",
              "      quickchartButtonEl.classList.remove('colab-df-spinner');\n",
              "      quickchartButtonEl.classList.add('colab-df-quickchart-complete');\n",
              "    }\n",
              "    (() => {\n",
              "      let quickchartButtonEl =\n",
              "        document.querySelector('#df-0543f637-fefa-4729-b834-ec0ad673dd38 button');\n",
              "      quickchartButtonEl.style.display =\n",
              "        google.colab.kernel.accessAllowed ? 'block' : 'none';\n",
              "    })();\n",
              "  </script>\n",
              "</div>\n",
              "\n",
              "    </div>\n",
              "  </div>\n"
            ],
            "application/vnd.google.colaboratory.intrinsic+json": {
              "type": "dataframe",
              "variable_name": "test_df_copy"
            }
          },
          "metadata": {},
          "execution_count": 9
        }
      ],
      "source": [
        "#Display Testing data\n",
        "test_df_copy.head()"
      ]
    },
    {
      "cell_type": "markdown",
      "metadata": {
        "id": "N4khWGfgCunl"
      },
      "source": [
        "----\n",
        "# 4. Data Cleaning <a class=\"anchor\" id=\"chapter4\"></a>"
      ]
    },
    {
      "cell_type": "markdown",
      "metadata": {
        "id": "hn0ZPmRoPE9r"
      },
      "source": [
        "**Checking any missing values**\n",
        "\n",
        "Checking for missing values involves examining each column in the datasets to ensure completeness and data integrity. This ensures that all required data points are present, avoiding potential errors or biases in subsequent analyses or modeling tasks."
      ]
    },
    {
      "cell_type": "code",
      "execution_count": 10,
      "metadata": {
        "colab": {
          "base_uri": "https://localhost:8080/"
        },
        "id": "Wleyhkv0PE9r",
        "outputId": "f8fc71b9-ebab-4f94-af11-0ee1506d4c27"
      },
      "outputs": [
        {
          "output_type": "stream",
          "name": "stdout",
          "text": [
            "\n",
            "Missing values in Anime Data\n",
            "anime_id      0\n",
            "name          0\n",
            "genre        62\n",
            "type         25\n",
            "episodes      0\n",
            "rating      230\n",
            "members       0\n",
            "dtype: int64\n",
            "\n",
            "Missing values in Test Data\n",
            "user_id     0\n",
            "anime_id    0\n",
            "dtype: int64\n",
            "\n",
            "Missing values in Train Data\n",
            "user_id     0\n",
            "anime_id    0\n",
            "rating      1\n",
            "dtype: int64\n"
          ]
        }
      ],
      "source": [
        "# 1. Handling missing values\n",
        "# Checking for missing values\n",
        "print(\"\\nMissing values in Anime Data\")\n",
        "print(anime_df_copy.isnull().sum())\n",
        "\n",
        "print(\"\\nMissing values in Test Data\")\n",
        "print(test_df_copy.isnull().sum())\n",
        "\n",
        "print(\"\\nMissing values in Train Data\")\n",
        "print(train_df_copy.isnull().sum())"
      ]
    },
    {
      "cell_type": "markdown",
      "metadata": {
        "id": "kPAfr6vzPE9s"
      },
      "source": [
        "<div style=\"background-color: orange; padding: 10px; border-radius: 5px;\">\n",
        "\n",
        "**Insights:**\n",
        "\n",
        "</div>"
      ]
    },
    {
      "cell_type": "code",
      "execution_count": 11,
      "metadata": {
        "id": "8D704QRtPE9s"
      },
      "outputs": [],
      "source": [
        "import numpy as np\n",
        "# Function to impute missing values\n",
        "def impute_missing_values(df):\n",
        "    for column in df.columns:\n",
        "        if df[column].dtype == np.number:\n",
        "            if df[column].skew() > 0.5:\n",
        "                df[column].fillna(df[column].median(), inplace=True)\n",
        "            else:\n",
        "                df[column].fillna(df[column].mean(), inplace=True)\n",
        "        else:\n",
        "            df[column].fillna(df[column].mode()[0], inplace=True)\n",
        "    return df\n",
        "\n",
        "# Apply the imputation function\n",
        "anime_df_cleaned = impute_missing_values(anime_df_copy)\n",
        "train_df_cleaned = impute_missing_values(train_df_copy)\n",
        "test_df_cleaned = impute_missing_values(test_df_copy)"
      ]
    },
    {
      "cell_type": "code",
      "execution_count": 12,
      "metadata": {
        "colab": {
          "base_uri": "https://localhost:8080/"
        },
        "id": "dgIGJ6iePE9s",
        "outputId": "daac4076-16b4-4318-fde3-37e6cd7c9cb3"
      },
      "outputs": [
        {
          "output_type": "stream",
          "name": "stdout",
          "text": [
            "Missing values in anime_df:\n",
            " anime_id    0\n",
            "name        0\n",
            "genre       0\n",
            "type        0\n",
            "episodes    0\n",
            "rating      0\n",
            "members     0\n",
            "dtype: int64\n"
          ]
        }
      ],
      "source": [
        "# Check for missing values again\n",
        "print(\"Missing values in anime_df:\\n\", anime_df_cleaned.isnull().sum())"
      ]
    },
    {
      "cell_type": "markdown",
      "metadata": {
        "id": "GdhHrkuvPE9t"
      },
      "source": [
        "<div style=\"background-color: orange; padding: 10px; border-radius: 5px;\">\n",
        "\n",
        "**Insights:**\n",
        "\n",
        "</div>"
      ]
    },
    {
      "cell_type": "markdown",
      "metadata": {
        "id": "uRRUZW6cPE9u"
      },
      "source": [
        "**Checking duplicates**\n",
        "\n",
        "Checking duplicates involves verifying whether there are any repeated entries within the datasets. This ensures data consistency and reliability for accurate analysis and modeling."
      ]
    },
    {
      "cell_type": "code",
      "execution_count": 13,
      "metadata": {
        "colab": {
          "base_uri": "https://localhost:8080/"
        },
        "id": "fH4-ThAOPE9u",
        "outputId": "82a8df6a-792b-4a8b-ebfa-847136f159dd"
      },
      "outputs": [
        {
          "output_type": "stream",
          "name": "stdout",
          "text": [
            "\n",
            "Duplicates in Anime Data: 0\n",
            "Duplicates in Test Data: 0\n",
            "Duplicates in Train Data: 0\n"
          ]
        }
      ],
      "source": [
        "# 2. Checking for duplicates\n",
        "print(\"\\nDuplicates in Anime Data:\", anime_df_cleaned.duplicated().sum())\n",
        "print(\"Duplicates in Test Data:\", test_df_cleaned.duplicated().sum())\n",
        "print(\"Duplicates in Train Data:\", train_df_cleaned.duplicated().sum())\n",
        "\n",
        "# Dropping duplicates if any\n",
        "anime_df_cleaned = anime_df_cleaned.drop_duplicates()\n",
        "test_df_cleaned = test_df_copy.drop_duplicates()\n",
        "train_df_cleaned = train_df_copy.drop_duplicates()"
      ]
    },
    {
      "cell_type": "markdown",
      "metadata": {
        "id": "EvXX5voePE9v"
      },
      "source": [
        "<div style=\"background-color: orange; padding: 10px; border-radius: 5px;\">\n",
        "\n",
        "**Insights:**\n",
        "\n",
        "</div>"
      ]
    },
    {
      "cell_type": "markdown",
      "metadata": {
        "id": "jh_zsctjPE9v"
      },
      "source": [
        "**Ensuring data consistency in data types**\n",
        "\n",
        "Ensuring data consistency in data types is crucial for accurate data analysis and processing, as mismatched types can lead to errors and incorrect results. Consistent data types facilitate seamless integration of datasets, reliable computations, and proper application of data transformations. Adhering to the correct data types is fundamental for maintaining the integrity of data-driven insights and achieving reproducible outcomes in analyses."
      ]
    },
    {
      "cell_type": "code",
      "execution_count": 14,
      "metadata": {
        "colab": {
          "base_uri": "https://localhost:8080/"
        },
        "id": "EndhrWF_PE9v",
        "outputId": "194bc427-eada-476e-80a1-1ab7a2dff76a"
      },
      "outputs": [
        {
          "output_type": "stream",
          "name": "stdout",
          "text": [
            "\n",
            "Data types in Anime Data\n",
            "anime_id      int64\n",
            "name         object\n",
            "genre        object\n",
            "type         object\n",
            "episodes     object\n",
            "rating      float64\n",
            "members       int64\n",
            "dtype: object\n",
            "\n",
            "Data types in Test Data\n",
            "user_id     int64\n",
            "anime_id    int64\n",
            "dtype: object\n",
            "\n",
            "Data types in Train Data\n",
            "user_id       int64\n",
            "anime_id      int64\n",
            "rating      float64\n",
            "dtype: object\n",
            "\n",
            "Cleaned Anime Data\n",
            "   anime_id                              name  \\\n",
            "0     32281                    Kimi no Na wa.   \n",
            "1      5114  Fullmetal Alchemist: Brotherhood   \n",
            "2     28977                          Gintama°   \n",
            "3      9253                       Steins;Gate   \n",
            "4      9969                     Gintama&#039;   \n",
            "\n",
            "                                               genre   type  episodes  rating  \\\n",
            "0               Drama, Romance, School, Supernatural  Movie       1.0    9.37   \n",
            "1  Action, Adventure, Drama, Fantasy, Magic, Mili...     TV      64.0    9.26   \n",
            "2  Action, Comedy, Historical, Parody, Samurai, S...     TV      51.0    9.25   \n",
            "3                                   Sci-Fi, Thriller     TV      24.0    9.17   \n",
            "4  Action, Comedy, Historical, Parody, Samurai, S...     TV      51.0    9.16   \n",
            "\n",
            "   members  \n",
            "0   200630  \n",
            "1   793665  \n",
            "2   114262  \n",
            "3   673572  \n",
            "4   151266  \n",
            "\n",
            "Cleaned Test Data\n",
            "   user_id  anime_id\n",
            "0    40763     21405\n",
            "1    68791     10504\n",
            "2    40487      1281\n",
            "3    55290       165\n",
            "4    72323     11111\n",
            "\n",
            "Cleaned Train Data\n",
            "   user_id  anime_id  rating\n",
            "0        1     11617    10.0\n",
            "1        1     11757    10.0\n",
            "2        1     15451    10.0\n",
            "3        2     11771    10.0\n",
            "4        3        20     8.0\n"
          ]
        }
      ],
      "source": [
        "# 3. Ensuring consistent data types\n",
        "print(\"\\nData types in Anime Data\")\n",
        "print(anime_df_cleaned.dtypes)\n",
        "\n",
        "print(\"\\nData types in Test Data\")\n",
        "print(test_df_cleaned.dtypes)\n",
        "\n",
        "print(\"\\nData types in Train Data\")\n",
        "print(train_df_cleaned.dtypes)\n",
        "\n",
        "# Convert data types if necessary\n",
        "# Assuming 'episodes' in anime_df should be numeric, convert if needed\n",
        "anime_df_cleaned['episodes'] = pd.to_numeric(anime_df_cleaned['episodes'], errors='coerce')\n",
        "anime_df_cleaned = anime_df_cleaned.dropna(subset=['episodes'])\n",
        "\n",
        "# Display the cleaned data\n",
        "print(\"\\nCleaned Anime Data\")\n",
        "print(anime_df_cleaned.head())\n",
        "\n",
        "print(\"\\nCleaned Test Data\")\n",
        "print(test_df_copy.head())\n",
        "\n",
        "print(\"\\nCleaned Train Data\")\n",
        "print(train_df_copy.head())"
      ]
    },
    {
      "cell_type": "markdown",
      "metadata": {
        "id": "PkmQDGEdPE9v"
      },
      "source": [
        "<div style=\"background-color: orange; padding: 10px; border-radius: 5px;\">\n",
        "\n",
        "**Insights:**\n",
        "\n",
        "</div>"
      ]
    },
    {
      "cell_type": "markdown",
      "metadata": {
        "id": "lIA0-TWXCunn"
      },
      "source": [
        "----\n",
        "# 5. Exploritory Data Analysis"
      ]
    },
    {
      "cell_type": "markdown",
      "metadata": {
        "id": "QtREpWTZPE9w"
      },
      "source": [
        "**Basic Information**\n",
        "\n",
        "This code prints a concise summary of each dataset, including the number of non-null entries, data types, and memory usage. It helps identify missing values and understand the overall structure of the datasets."
      ]
    },
    {
      "cell_type": "code",
      "execution_count": 15,
      "metadata": {
        "colab": {
          "base_uri": "https://localhost:8080/"
        },
        "id": "YOxXCAUOPE9w",
        "outputId": "b9fcea78-2279-45e1-efef-0a4a79701544"
      },
      "outputs": [
        {
          "output_type": "stream",
          "name": "stdout",
          "text": [
            "Anime Data Info\n",
            "<class 'pandas.core.frame.DataFrame'>\n",
            "Index: 11954 entries, 0 to 12293\n",
            "Data columns (total 7 columns):\n",
            " #   Column    Non-Null Count  Dtype  \n",
            "---  ------    --------------  -----  \n",
            " 0   anime_id  11954 non-null  int64  \n",
            " 1   name      11954 non-null  object \n",
            " 2   genre     11954 non-null  object \n",
            " 3   type      11954 non-null  object \n",
            " 4   episodes  11954 non-null  float64\n",
            " 5   rating    11954 non-null  float64\n",
            " 6   members   11954 non-null  int64  \n",
            "dtypes: float64(2), int64(2), object(3)\n",
            "memory usage: 747.1+ KB\n",
            "None\n",
            "\n",
            "Train Data Info\n",
            "<class 'pandas.core.frame.DataFrame'>\n",
            "RangeIndex: 1018873 entries, 0 to 1018872\n",
            "Data columns (total 3 columns):\n",
            " #   Column    Non-Null Count    Dtype  \n",
            "---  ------    --------------    -----  \n",
            " 0   user_id   1018873 non-null  int64  \n",
            " 1   anime_id  1018873 non-null  int64  \n",
            " 2   rating    1018873 non-null  float64\n",
            "dtypes: float64(1), int64(2)\n",
            "memory usage: 23.3 MB\n",
            "None\n"
          ]
        }
      ],
      "source": [
        "print(\"Anime Data Info\")\n",
        "print(anime_df_cleaned.info())\n",
        "print(\"\\nTrain Data Info\")\n",
        "print(train_df_cleaned.info())"
      ]
    },
    {
      "cell_type": "markdown",
      "metadata": {
        "id": "p5n2LjkbPE9w"
      },
      "source": [
        "<div style=\"background-color: orange; padding: 10px; border-radius: 5px;\">\n",
        "\n",
        "**Insights:**\n",
        "\n",
        "</div>"
      ]
    },
    {
      "cell_type": "markdown",
      "metadata": {
        "id": "ev-TF5S2PE9w"
      },
      "source": [
        "**Statistical Summary**\n",
        "\n",
        "This code provides a statistical summary of the numerical columns in each dataset, including count, mean, standard deviation, and percentiles. It helps understand the distribution and central tendencies of the data."
      ]
    },
    {
      "cell_type": "code",
      "execution_count": 16,
      "metadata": {
        "colab": {
          "base_uri": "https://localhost:8080/"
        },
        "id": "K2VWN24FPE9w",
        "outputId": "3e20328e-e029-42e5-e117-f66744b6c628"
      },
      "outputs": [
        {
          "output_type": "stream",
          "name": "stdout",
          "text": [
            "Anime Data Description\n",
            "           anime_id      episodes        rating       members\n",
            "count  11954.000000  11954.000000  11954.000000  1.195400e+04\n",
            "mean   13589.705120     12.382550      6.480291  1.836856e+04\n",
            "std    11209.052798     46.865352      1.018655  5.511078e+04\n",
            "min        1.000000      1.000000      1.670000  5.000000e+00\n",
            "25%     3380.250000      1.000000      5.890000  2.290000e+02\n",
            "50%     9934.500000      2.000000      6.560000  1.579500e+03\n",
            "75%    23644.500000     12.000000      7.180000  9.755500e+03\n",
            "max    34527.000000   1818.000000     10.000000  1.013917e+06\n",
            "\n",
            "Test Data Description\n",
            "             user_id       anime_id\n",
            "count  633686.000000  633686.000000\n",
            "mean    36777.752605    8909.389543\n",
            "std     21028.330970    8880.430436\n",
            "min         1.000000       1.000000\n",
            "25%     18974.000000    1240.000000\n",
            "50%     36919.000000    6213.000000\n",
            "75%     54908.000000   14131.000000\n",
            "max     73516.000000   34367.000000\n",
            "\n",
            "Train Data Description\n",
            "            user_id      anime_id        rating\n",
            "count  1.018873e+06  1.018873e+06  1.018873e+06\n",
            "mean   6.655367e+03  8.662957e+03  7.785291e+00\n",
            "std    3.701672e+03  8.947922e+03  1.578470e+00\n",
            "min    1.000000e+00  1.000000e+00  1.000000e+00\n",
            "25%    3.607000e+03  1.060000e+03  7.000000e+00\n",
            "50%    6.586000e+03  5.460000e+03  8.000000e+00\n",
            "75%    9.996000e+03  1.375900e+04  9.000000e+00\n",
            "max    1.324900e+04  3.432500e+04  1.000000e+01\n"
          ]
        }
      ],
      "source": [
        "print(\"Anime Data Description\")\n",
        "print(anime_df_cleaned.describe())\n",
        "print(\"\\nTest Data Description\")\n",
        "print(test_df_cleaned.describe())\n",
        "print(\"\\nTrain Data Description\")\n",
        "print(train_df_cleaned.describe())"
      ]
    },
    {
      "cell_type": "markdown",
      "metadata": {
        "id": "TUzA8GiJPE9x"
      },
      "source": [
        "<div style=\"background-color: orange; padding: 10px; border-radius: 5px;\">\n",
        "\n",
        "**Insights:**\n",
        "\n",
        "</div>"
      ]
    },
    {
      "cell_type": "markdown",
      "metadata": {
        "id": "RAAGu6aePE9x"
      },
      "source": [
        "**Checking Data Distributions**\n",
        "\n",
        "This code visualizes the distribution of ratings in the training dataset using a histogram and a kernel density estimate (KDE). It helps identify patterns, skewness, and the spread of rating values."
      ]
    },
    {
      "cell_type": "code",
      "execution_count": 17,
      "metadata": {
        "colab": {
          "base_uri": "https://localhost:8080/",
          "height": 564
        },
        "id": "gOnnGdEfPE95",
        "outputId": "92e36144-96bd-446f-bca6-3db45da09e0e"
      },
      "outputs": [
        {
          "output_type": "display_data",
          "data": {
            "text/plain": [
              "<Figure size 1000x600 with 1 Axes>"
            ],
            "image/png": "[encoded data removed]"
          },
          "metadata": {}
        }
      ],
      "source": [
        "import matplotlib.pyplot as plt\n",
        "import seaborn as sns\n",
        "\n",
        "# Distribution of ratings in train data\n",
        "plt.figure(figsize=(10, 6))\n",
        "sns.histplot(train_df_cleaned['rating'], bins=10, kde=True)\n",
        "plt.title('Distribution of Ratings')\n",
        "plt.xlabel('Rating')\n",
        "plt.ylabel('Frequency')\n",
        "plt.show()"
      ]
    },
    {
      "cell_type": "code",
      "execution_count": 18,
      "metadata": {
        "colab": {
          "base_uri": "https://localhost:8080/",
          "height": 564
        },
        "id": "RpLjOA10PE95",
        "outputId": "e01c348f-8ea7-4dca-b45c-aa561d53c0ed"
      },
      "outputs": [
        {
          "output_type": "display_data",
          "data": {
            "text/plain": [
              "<Figure size 1000x600 with 1 Axes>"
            ],
            "image/png": "[encoded data removed]"
          },
          "metadata": {}
        }
      ],
      "source": [
        "import matplotlib.pyplot as plt\n",
        "import seaborn as sns\n",
        "import numpy as np\n",
        "\n",
        "# Custom color palette\n",
        "colors = sns.color_palette(\"YlOrRd\", 10)\n",
        "\n",
        "# Plotting the distribution of ratings in train data\n",
        "plt.figure(figsize=(10, 6), facecolor='black')\n",
        "ax = sns.histplot(train_df_cleaned['rating'], bins=10, kde=True, color='orange', edgecolor='black', linewidth=2)\n",
        "\n",
        "for i, patch in enumerate(ax.patches):\n",
        "    patch.set_facecolor(colors[i % len(colors)])\n",
        "    patch.set_edgecolor('black')\n",
        "    patch.set_linewidth(2)\n",
        "\n",
        "#adjusting the colour settings\n",
        "ax.set_facecolor('black')\n",
        "plt.title('Distribution of Ratings', color='white')\n",
        "plt.xlabel('Rating', color='white')\n",
        "plt.ylabel('Frequency', color='white')\n",
        "ax.tick_params(colors='white')\n",
        "\n",
        "plt.show()"
      ]
    },
    {
      "cell_type": "markdown",
      "metadata": {
        "id": "MpipqrbVPE97"
      },
      "source": [
        "<div style=\"background-color: orange; padding: 10px; border-radius: 5px;\">\n",
        "\n",
        "**Insights:**\n",
        "\n",
        "</div>"
      ]
    },
    {
      "cell_type": "markdown",
      "metadata": {
        "id": "Pc2O3XeGPE97"
      },
      "source": [
        "**Relationship between Variables**\n",
        "\n",
        "Correlation Mix: This code generates a heatmap of the correlation matrix for the training data, showing the relationship between different numerical variables. It helps identify multicollinearity and potential predictors for modeling."
      ]
    },
    {
      "cell_type": "code",
      "execution_count": null,
      "metadata": {
        "id": "y9LGqXd7PE98",
        "outputId": "662a746d-c194-4650-a3b4-a3b1d602afd7"
      },
      "outputs": [
        {
          "data": {
            "image/png": "[encoded data removed]",
            "text/plain": [
              "<Figure size 1000x600 with 2 Axes>"
            ]
          },
          "metadata": {},
          "output_type": "display_data"
        }
      ],
      "source": [
        "import matplotlib.pyplot as plt\n",
        "import seaborn as sns\n",
        "from matplotlib.colors import LinearSegmentedColormap\n",
        "\n",
        "# Custom colormap creation\n",
        "colors = [\"#FFFFE0\", \"#FFD700\", \"#FFA500\", \"#FF4500\", \"#FF0000\"]\n",
        "n_bins = 100  # Discretizes the interpolation into bins\n",
        "cmap_name = 'custom_yelorred'\n",
        "cmap = LinearSegmentedColormap.from_list(cmap_name, colors, N=n_bins)\n",
        "\n",
        "# Correlation matrix for train data\n",
        "plt.figure(figsize=(10, 6), facecolor='black')  # Set the figure background to black\n",
        "ax = sns.heatmap(train_df_cleaned.corr(), annot=True, cmap=cmap, linewidths=2, linecolor='black')\n",
        "\n",
        "#adjusting the colour settings\n",
        "ax.set_facecolor('black')\n",
        "plt.title('Correlation Matrix', color='white')\n",
        "plt.xlabel('Rating', color='white')\n",
        "plt.ylabel('Frequency', color='white')\n",
        "ax.tick_params(colors='white')\n",
        "for text in ax.texts:\n",
        "    text.set_color('white')\n",
        "\n",
        "plt.show()"
      ]
    },
    {
      "cell_type": "markdown",
      "metadata": {
        "id": "-DGmzwgQPE98"
      },
      "source": [
        "<div style=\"background-color: orange; padding: 10px; border-radius: 5px;\">\n",
        "\n",
        "**Insights:**\n",
        "\n",
        "</div>"
      ]
    },
    {
      "cell_type": "markdown",
      "metadata": {
        "id": "6btHfRRXPE99"
      },
      "source": [
        "**Ratings by Anime Type**\n",
        "\n",
        "This code calculates and visualizes the average rating for each anime type using a bar plot. It helps understand which types of anime tend to receive higher ratings and may influence user preferences."
      ]
    },
    {
      "cell_type": "code",
      "execution_count": null,
      "metadata": {
        "id": "TB7l40TuPE99",
        "outputId": "74bf17c8-62e4-4eb7-e3a4-15955c9b4df9"
      },
      "outputs": [
        {
          "data": {
            "image/png": "[encoded data removed]",
            "text/plain": [
              "<Figure size 1200x600 with 1 Axes>"
            ]
          },
          "metadata": {},
          "output_type": "display_data"
        }
      ],
      "source": [
        "import matplotlib.pyplot as plt\n",
        "import seaborn as sns\n",
        "\n",
        "# Calculating the mean rating by anime type\n",
        "type_ratings = anime_df_cleaned.groupby('type')['rating'].mean().sort_values()\n",
        "\n",
        "plt.figure(figsize=(12, 6), facecolor='black')  # Set the figure background to black\n",
        "ax = sns.barplot(x=type_ratings.index, y=type_ratings.values, palette=\"YlOrRd\")\n",
        "\n",
        "# Setting the background to black\n",
        "ax.set_facecolor('black')\n",
        "\n",
        "# Customize the bars' edge color and width\n",
        "for patch in ax.patches:\n",
        "    patch.set_edgecolor('black')\n",
        "    patch.set_linewidth(2)\n",
        "\n",
        "# Setting the title, labels, and tick labels color to white\n",
        "plt.title('Average Rating by Anime Type', color='white')\n",
        "plt.xlabel('Type', color='white')\n",
        "plt.ylabel('Average Rating', color='white')\n",
        "plt.xticks(rotation=45, color='white')\n",
        "plt.yticks(color='white')\n",
        "\n",
        "plt.show()"
      ]
    },
    {
      "cell_type": "markdown",
      "metadata": {
        "id": "vXn8Ru2WPE9-"
      },
      "source": [
        "<div style=\"background-color: orange; padding: 10px; border-radius: 5px;\">\n",
        "\n",
        "**Insights:**\n",
        "\n",
        "</div>"
      ]
    },
    {
      "cell_type": "markdown",
      "metadata": {
        "id": "E5RrnUJpPE9-"
      },
      "source": [
        "**Analysing Popularity**"
      ]
    },
    {
      "cell_type": "markdown",
      "metadata": {
        "id": "fy6snLU5PE9-"
      },
      "source": [
        "_Top Ten most Rated Animes_: This code identifies and visualizes the top 10 most rated animes based on the number of members using a bar plot. It helps identify popular animes that have a large audience and engagement."
      ]
    },
    {
      "cell_type": "code",
      "execution_count": null,
      "metadata": {
        "id": "EorRL_aMPE9_",
        "outputId": "8abeb48a-fdde-450b-c374-b0cd7acc452e"
      },
      "outputs": [
        {
          "data": {
            "image/png": "[encoded data removed]",
            "text/plain": [
              "<Figure size 1200x600 with 1 Axes>"
            ]
          },
          "metadata": {},
          "output_type": "display_data"
        }
      ],
      "source": [
        "import matplotlib.pyplot as plt\n",
        "import seaborn as sns\n",
        "\n",
        "# Sort and select top 10 animes by number of members\n",
        "top_animes = anime_df_cleaned.sort_values(by='members', ascending=False).head(10)\n",
        "\n",
        "plt.figure(figsize=(12, 6), facecolor='black')  # Set the figure background to black\n",
        "ax = sns.barplot(x=top_animes['name'], y=top_animes['members'], palette=\"YlOrRd\")\n",
        "\n",
        "# Setting the background to black\n",
        "ax.set_facecolor('black')\n",
        "\n",
        "# Customization of the bars' edge color and width\n",
        "for patch in ax.patches:\n",
        "    patch.set_edgecolor('black')\n",
        "    patch.set_linewidth(2)\n",
        "\n",
        "# Setting the title, labels, and tick labels color to white\n",
        "plt.title('Top 10 Most Rated Animes', color='white')\n",
        "plt.xlabel('Anime', color='white')\n",
        "plt.ylabel('Number of Members', color='white')\n",
        "plt.xticks(rotation=90, color='white')\n",
        "plt.yticks(color='white')\n",
        "\n",
        "plt.show()"
      ]
    },
    {
      "cell_type": "markdown",
      "metadata": {
        "id": "VIjFzU5PPE9_"
      },
      "source": [
        "_Top Ten Highest Rated Anime_: This code identifies and visualizes the top 10 highest-rated animes using a bar plot. It helps highlight critically acclaimed animes that have received the highest user ratings."
      ]
    },
    {
      "cell_type": "code",
      "execution_count": null,
      "metadata": {
        "id": "NihBPBrEPE9_",
        "outputId": "8564ecd9-accd-4c14-9b35-aeb4f5458ccd"
      },
      "outputs": [
        {
          "data": {
            "image/png": "[encoded data removed]",
            "text/plain": [
              "<Figure size 1200x600 with 1 Axes>"
            ]
          },
          "metadata": {},
          "output_type": "display_data"
        }
      ],
      "source": [
        "import matplotlib.pyplot as plt\n",
        "import seaborn as sns\n",
        "\n",
        "# Sort and select top 10 animes by rating\n",
        "top_rated_animes = anime_df_cleaned.sort_values(by='rating', ascending=False).head(10)\n",
        "\n",
        "plt.figure(figsize=(12, 6), facecolor='black')  # Set the figure background to black\n",
        "ax = sns.barplot(x=top_rated_animes['name'], y=top_rated_animes['rating'], palette=\"YlOrRd\")\n",
        "\n",
        "# Setting the axes background to black\n",
        "ax.set_facecolor('black')\n",
        "\n",
        "# Customization of the bars' edge color and width\n",
        "for patch in ax.patches:\n",
        "    patch.set_edgecolor('black')\n",
        "    patch.set_linewidth(2)\n",
        "\n",
        "# Setting the title, labels, and tick labels color to white\n",
        "plt.title('Top 10 Highest Rated Animes', color='white')\n",
        "plt.xlabel('Anime', color='white')\n",
        "plt.ylabel('Rating', color='white')\n",
        "plt.xticks(rotation=90, color='white')\n",
        "plt.yticks(color='white')\n",
        "\n",
        "plt.show()"
      ]
    },
    {
      "cell_type": "markdown",
      "metadata": {
        "id": "7CTqk4HmPE-A"
      },
      "source": [
        "<div style=\"background-color: orange; padding: 10px; border-radius: 5px;\">\n",
        "\n",
        "**Insights:**\n",
        "\n",
        "</div>"
      ]
    },
    {
      "cell_type": "markdown",
      "metadata": {
        "id": "cucyAsGUPE-B"
      },
      "source": [
        "**User Analysis**"
      ]
    },
    {
      "cell_type": "markdown",
      "metadata": {
        "id": "1ikFTw1TPE-B"
      },
      "source": [
        "_User Activity_: This code identifies and visualizes the top 10 most active users based on the number of ratings they have given using a bar plot. It helps understand user engagement and the most influential users in the dataset."
      ]
    },
    {
      "cell_type": "code",
      "execution_count": null,
      "metadata": {
        "id": "ibRnoXnzPE-C",
        "outputId": "cf7a0682-b505-44ef-d831-7e5c1934ac7f"
      },
      "outputs": [
        {
          "data": {
            "image/png": "[encoded data removed]",
            "text/plain": [
              "<Figure size 1200x600 with 1 Axes>"
            ]
          },
          "metadata": {},
          "output_type": "display_data"
        }
      ],
      "source": [
        "import matplotlib.pyplot as plt\n",
        "import seaborn as sns\n",
        "\n",
        "# The top 10 most active users by number of ratings\n",
        "user_activity = train_df_cleaned['user_id'].value_counts().head(10)\n",
        "\n",
        "plt.figure(figsize=(12, 6), facecolor='black')  # Set the figure background to black\n",
        "ax = sns.barplot(x=user_activity.index, y=user_activity.values, palette=\"YlOrRd\")\n",
        "\n",
        "# Setting the axes background to black\n",
        "ax.set_facecolor('black')\n",
        "\n",
        "# Customization of the bars' edge color and width\n",
        "for patch in ax.patches:\n",
        "    patch.set_edgecolor('black')\n",
        "    patch.set_linewidth(2)\n",
        "\n",
        "# Setting the title, labels, and tick labels color to white\n",
        "plt.title('Top 10 Most Active Users', color='white')\n",
        "plt.xlabel('User ID', color='white')\n",
        "plt.ylabel('Number of Ratings', color='white')\n",
        "plt.xticks(color='white')\n",
        "plt.yticks(color='white')\n",
        "\n",
        "plt.show()"
      ]
    },
    {
      "cell_type": "markdown",
      "metadata": {
        "id": "mnd9mFxdPE-D"
      },
      "source": [
        "<div style=\"background-color: orange; padding: 10px; border-radius: 5px;\">\n",
        "\n",
        "**Insights:**\n",
        "\n",
        "</div>"
      ]
    },
    {
      "cell_type": "markdown",
      "metadata": {
        "id": "Nc5Vf2BRPE-D"
      },
      "source": [
        "**Genre Analysis**"
      ]
    },
    {
      "cell_type": "markdown",
      "metadata": {
        "id": "jwtQV__CPE-F"
      },
      "source": [
        "_Most Common Genres_: This code identifies and visualizes the top 10 most common genres in the anime dataset using a bar plot. It helps understand the prevalence of different genres and their popularity among users."
      ]
    },
    {
      "cell_type": "code",
      "execution_count": null,
      "metadata": {
        "id": "O5e9ZjZdPE-G",
        "outputId": "8d159d2c-ce02-4262-d824-3b338939bfcb"
      },
      "outputs": [
        {
          "data": {
            "image/png": "[encoded data removed]",
            "text/plain": [
              "<Figure size 1200x600 with 1 Axes>"
            ]
          },
          "metadata": {},
          "output_type": "display_data"
        }
      ],
      "source": [
        "import matplotlib.pyplot as plt\n",
        "import seaborn as sns\n",
        "from collections import Counter\n",
        "\n",
        "# Extraction and count of the genres\n",
        "genres = anime_df_cleaned['genre'].str.split(', ')\n",
        "genre_list = [item for sublist in genres.dropna() for item in sublist]\n",
        "genre_counts = Counter(genre_list)\n",
        "most_common_genres = genre_counts.most_common(10)\n",
        "\n",
        "# Unzip the most common genres into separate lists\n",
        "genres, counts = zip(*most_common_genres)\n",
        "\n",
        "plt.figure(figsize=(12, 6), facecolor='black')\n",
        "ax = sns.barplot(x=list(genres), y=list(counts), palette=\"YlOrRd\")\n",
        "ax.set_facecolor('black')\n",
        "\n",
        "# Customization of the bars' edge color and width\n",
        "for patch in ax.patches:\n",
        "    patch.set_edgecolor('black')\n",
        "    patch.set_linewidth(2)\n",
        "\n",
        "# Setting the title, labels, and tick labels color to white\n",
        "plt.title('Top 10 Most Common Genres', color='white')\n",
        "plt.xlabel('Genre', color='white')\n",
        "plt.ylabel('Count', color='white')\n",
        "plt.xticks(rotation=45, color='white')\n",
        "plt.yticks(color='white')\n",
        "\n",
        "plt.show()"
      ]
    },
    {
      "cell_type": "markdown",
      "metadata": {
        "id": "PQR5XJk7PE-G"
      },
      "source": [
        "<div style=\"background-color: orange; padding: 10px; border-radius: 5px;\">\n",
        "\n",
        "**Insights:**\n",
        "\n",
        "</div>"
      ]
    },
    {
      "cell_type": "code",
      "execution_count": null,
      "metadata": {
        "id": "xT_Kbk7fPE-H",
        "outputId": "817fe84f-934c-4a5c-9217-e618d66382f6"
      },
      "outputs": [
        {
          "name": "stdout",
          "output_type": "stream",
          "text": [
            "type\n",
            "TV         3578\n",
            "OVA        3261\n",
            "Movie      2344\n",
            "Special    1671\n",
            "ONA         613\n",
            "Music       487\n",
            "Name: count, dtype: int64\n"
          ]
        }
      ],
      "source": [
        "# The occurrences of each type\n",
        "type_counts = anime_df_cleaned['type'].value_counts()\n",
        "print(type_counts)"
      ]
    },
    {
      "cell_type": "markdown",
      "metadata": {
        "id": "bHND8LOrPE-H"
      },
      "source": [
        "<div style=\"background-color: orange; padding: 10px; border-radius: 5px;\">\n",
        "\n",
        "**Insights:**\n",
        "\n",
        "</div>"
      ]
    },
    {
      "cell_type": "code",
      "execution_count": null,
      "metadata": {
        "id": "RYCgMEkmPE-I",
        "outputId": "042fde9c-9382-4130-efc1-1287e0f2066e"
      },
      "outputs": [
        {
          "data": {
            "image/png": "[encoded data removed]",
            "text/plain": [
              "<Figure size 1000x800 with 1 Axes>"
            ]
          },
          "metadata": {},
          "output_type": "display_data"
        }
      ],
      "source": [
        "import matplotlib.pyplot as plt\n",
        "\n",
        "# Customization of color palette\n",
        "colors = [\"#FFCC00\", \"#FF9900\", \"#FF6600\", \"#FF3300\", \"#CC0000\", \"#990000\", \"#660000\", \"#FF9999\", \"#FF6666\", \"#FF3333\"]\n",
        "\n",
        "# Plotting of the donut chart\n",
        "plt.figure(figsize=(10, 8), facecolor='black')  # Set the figure background to black\n",
        "\n",
        "# Plotting of the pie chart\n",
        "plt.pie(\n",
        "    type_counts,\n",
        "    labels=type_counts.index,\n",
        "    autopct='%1.1f%%',\n",
        "    startangle=140,\n",
        "    colors=colors,\n",
        "    wedgeprops={'width': 0.5, 'edgecolor': 'black'}\n",
        ")\n",
        "\n",
        "# Setting the title color\n",
        "plt.title('Distribution of Anime Types', color='white')\n",
        "plt.axis('equal')\n",
        "\n",
        "# Setting the background color to black\n",
        "plt.gca().set_facecolor('black')\n",
        "\n",
        "plt.show()"
      ]
    },
    {
      "cell_type": "markdown",
      "metadata": {
        "id": "2aXY7YuwPE-I"
      },
      "source": [
        "<div style=\"background-color: orange; padding: 10px; border-radius: 5px;\">\n",
        "\n",
        "**Insights:**\n",
        "\n",
        "</div>"
      ]
    },
    {
      "cell_type": "markdown",
      "metadata": {
        "id": "P0k9EQphPE-J"
      },
      "source": [
        "----\n",
        "# 6. Preprocessing"
      ]
    },
    {
      "cell_type": "code",
      "source": [
        "from surprise import Dataset, Reader, SVD\n",
        "from surprise.model_selection import train_test_split\n",
        "from surprise import accuracy"
      ],
      "metadata": {
        "id": "sFaX5mnFUY7E"
      },
      "execution_count": 22,
      "outputs": []
    },
    {
      "cell_type": "code",
      "execution_count": 23,
      "metadata": {
        "id": "mx6Xvty9PE-J"
      },
      "outputs": [],
      "source": [
        "# Convert the train data into a format suitable for Surprise\n",
        "reader = Reader(rating_scale=(1, 10))\n",
        "data = Dataset.load_from_df(train_df_cleaned[['user_id', 'anime_id', 'rating']], reader)"
      ]
    },
    {
      "cell_type": "code",
      "execution_count": 24,
      "metadata": {
        "id": "tqDwtJnwPE-K"
      },
      "outputs": [],
      "source": [
        "# Build the trainset and testset\n",
        "trainset = data.build_full_trainset()"
      ]
    },
    {
      "cell_type": "markdown",
      "source": [
        "----\n",
        "# 7. Modeling"
      ],
      "metadata": {
        "id": "kiaYDvjNViG0"
      }
    },
    {
      "cell_type": "code",
      "execution_count": 25,
      "metadata": {
        "colab": {
          "base_uri": "https://localhost:8080/"
        },
        "id": "-7DTY0NNPE-K",
        "outputId": "2d63d2af-9076-4604-b696-0d88f70c4a13"
      },
      "outputs": [
        {
          "output_type": "execute_result",
          "data": {
            "text/plain": [
              "<surprise.prediction_algorithms.matrix_factorization.SVD at 0x78cf97ed78e0>"
            ]
          },
          "metadata": {},
          "execution_count": 25
        }
      ],
      "source": [
        "# Initialize the SVD model\n",
        "algo = SVD()\n",
        "\n",
        "# Train the model on the trainset\n",
        "algo.fit(trainset)"
      ]
    },
    {
      "cell_type": "code",
      "execution_count": 27,
      "metadata": {
        "id": "xHI29cGWPE-L"
      },
      "outputs": [],
      "source": [
        "# Predict ratings for the test data\n",
        "testset = [(row['user_id'], row['anime_id'], 0) for index, row in test_df_cleaned.iterrows()]\n",
        "predictions = algo.test(testset)"
      ]
    },
    {
      "cell_type": "code",
      "source": [
        "# Calculate and print the RMSE\n",
        "rmse = accuracy.rmse(predictions)"
      ],
      "metadata": {
        "colab": {
          "base_uri": "https://localhost:8080/"
        },
        "id": "1T2iqIZKaZWk",
        "outputId": "df6e6cc6-724a-410d-d122-439eaec177df"
      },
      "execution_count": 37,
      "outputs": [
        {
          "output_type": "stream",
          "name": "stdout",
          "text": [
            "RMSE: 7.9865\n"
          ]
        }
      ]
    },
    {
      "cell_type": "code",
      "source": [
        "# Create a DataFrame to store the predictions\n",
        "submission_data = {\n",
        "    'ID': [f\"{pred.uid}_{pred.iid}\" for pred in predictions],\n",
        "    'rating': [pred.est for pred in predictions]\n",
        "}"
      ],
      "metadata": {
        "id": "FdhD6ws_Wpdu"
      },
      "execution_count": 30,
      "outputs": []
    },
    {
      "cell_type": "code",
      "source": [
        "submission_df = pd.DataFrame(submission_data)\n",
        "# Save the predictions to a CSV file\n",
        "submission_df.to_csv('submission.csv', index=False)"
      ],
      "metadata": {
        "id": "YlQXX77fWvNk"
      },
      "execution_count": 38,
      "outputs": []
    },
    {
      "cell_type": "code",
      "source": [
        "# Display a preview of the saved CSV\n",
        "print(submission_df.head(10))"
      ],
      "metadata": {
        "colab": {
          "base_uri": "https://localhost:8080/"
        },
        "id": "BwMOkF64YSs_",
        "outputId": "9a9ed8c8-b4a0-4e9f-9dbf-23b42d74bbf7"
      },
      "execution_count": 32,
      "outputs": [
        {
          "output_type": "stream",
          "name": "stdout",
          "text": [
            "            ID    rating\n",
            "0  40763_21405  8.187329\n",
            "1  68791_10504  7.085669\n",
            "2   40487_1281  8.001348\n",
            "3    55290_165  8.111299\n",
            "4  72323_11111  8.199447\n",
            "5   31109_2144  7.113130\n",
            "6  20474_31790  6.740258\n",
            "7    60432_245  9.047453\n",
            "8    21853_934  8.569915\n",
            "9   53474_2104  8.301842\n"
          ]
        }
      ]
    },
    {
      "cell_type": "code",
      "source": [
        "submission_df.info()"
      ],
      "metadata": {
        "colab": {
          "base_uri": "https://localhost:8080/"
        },
        "id": "M386Vzw6YcFc",
        "outputId": "6dbade4e-e374-4fa8-c1b0-3d45899814aa"
      },
      "execution_count": 33,
      "outputs": [
        {
          "output_type": "stream",
          "name": "stdout",
          "text": [
            "<class 'pandas.core.frame.DataFrame'>\n",
            "RangeIndex: 633686 entries, 0 to 633685\n",
            "Data columns (total 2 columns):\n",
            " #   Column  Non-Null Count   Dtype  \n",
            "---  ------  --------------   -----  \n",
            " 0   ID      633686 non-null  object \n",
            " 1   rating  633686 non-null  float64\n",
            "dtypes: float64(1), object(1)\n",
            "memory usage: 9.7+ MB\n"
          ]
        }
      ]
    },
    {
      "cell_type": "markdown",
      "source": [
        "Content based"
      ],
      "metadata": {
        "id": "-nkZL8bZbTWW"
      }
    },
    {
      "cell_type": "code",
      "source": [
        "# Vectorize the genre column using TF-IDF\n",
        "tfidf_vectorizer = TfidfVectorizer(stop_words='english')\n",
        "tfidf_matrix = tfidf_vectorizer.fit_transform(anime_df_cleaned['genre'])"
      ],
      "metadata": {
        "id": "F-VWc9bFbX_v"
      },
      "execution_count": 41,
      "outputs": []
    },
    {
      "cell_type": "code",
      "source": [
        "# Compute the cosine similarity matrix\n",
        "cosine_sim = cosine_similarity(tfidf_matrix, tfidf_matrix)"
      ],
      "metadata": {
        "id": "nwB-YDsjc0r4"
      },
      "execution_count": 42,
      "outputs": []
    },
    {
      "cell_type": "code",
      "source": [
        "# Function to get recommendations based on cosine similarity\n",
        "def get_recommendations(title, cosine_sim=cosine_sim):\n",
        "    # Get the index of the anime that matches the title\n",
        "    idx = anime_df_cleaned[anime_df_cleaned['name'] == title].index[0]\n",
        "\n",
        "    # Get the pairwise similarity scores of all animes with that anime\n",
        "    sim_scores = list(enumerate(cosine_sim[idx]))\n",
        "\n",
        "    # Sort the animes based on the similarity scores\n",
        "    sim_scores = sorted(sim_scores, key=lambda x: x[1], reverse=True)\n",
        "\n",
        "    # Get the scores of the 10 most similar animes\n",
        "    sim_scores = sim_scores[1:11]\n",
        "\n",
        "    # Get the anime indices\n",
        "    anime_indices = [i[0] for i in sim_scores]\n",
        "\n",
        "    # Return the top 10 most similar animes\n",
        "    return print(\"Top 10 most similar Animes:\\n\",anime_df_cleaned[['name', 'rating','type']].iloc[anime_indices])"
      ],
      "metadata": {
        "id": "mvRjt6j0c6MK"
      },
      "execution_count": 67,
      "outputs": []
    },
    {
      "cell_type": "code",
      "source": [
        "print(get_recommendations('Naruto'))"
      ],
      "metadata": {
        "colab": {
          "base_uri": "https://localhost:8080/"
        },
        "id": "3vVsJXe9c-Fq",
        "outputId": "4fd8e725-b86e-45e1-bfa1-922b0d548f9c"
      },
      "execution_count": 68,
      "outputs": [
        {
          "output_type": "stream",
          "name": "stdout",
          "text": [
            "Top 10 most similar Animes:\n",
            "                                                    name  rating     type\n",
            "4540                                 Trava: Fist Planet    6.70      OVA\n",
            "1906  Mobile Suit Gundam 00 The Movie: A Wakening of...    7.41    Movie\n",
            "2130               Super Robot Taisen OG: The Inspector    7.35       TV\n",
            "2165                                Sei Juushi Bismarck    7.34       TV\n",
            "2828                            Aldnoah.Zero 2nd Season    7.15       TV\n",
            "4749                       Uchuu Senshi Baldios (Movie)    6.65    Movie\n",
            "4908                             Mobile Suit Gundam AGE    6.60       TV\n",
            "5226                            Rokushin Gattai GodMars    6.52       TV\n",
            "6267  Gundam: G no Reconguista - From the Past to th...    6.20  Special\n",
            "6474                     Rokushin Gattai GodMars (1982)    6.10    Movie\n",
            "None\n"
          ]
        }
      ]
    },
    {
      "cell_type": "markdown",
      "metadata": {
        "id": "lbHfHi4sPE-N"
      },
      "source": []
    },
    {
      "cell_type": "markdown",
      "metadata": {
        "id": "nRUB4DxJPE-N"
      },
      "source": [
        "# 09. References <a class=\"anchor\" id=\"chapter11\"></a>"
      ]
    },
    {
      "cell_type": "markdown",
      "metadata": {
        "id": "pwmwMvR9PE-N"
      },
      "source": [
        "#### <a href=#cont>Back to Table of Contents</a>\n",
        "\n",
        "---"
      ]
    }
  ],
  "metadata": {
    "colab": {
      "provenance": []
    },
    "kernelspec": {
      "display_name": "Python 3 (ipykernel)",
      "language": "python",
      "name": "python3"
    },
    "language_info": {
      "codemirror_mode": {
        "name": "ipython",
        "version": 3
      },
      "file_extension": ".py",
      "mimetype": "text/x-python",
      "name": "python",
      "nbconvert_exporter": "python",
      "pygments_lexer": "ipython3",
      "version": "3.11.5"
    }
  },
  "nbformat": 4,
  "nbformat_minor": 0
}